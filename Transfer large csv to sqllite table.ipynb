{
 "cells": [
  {
   "cell_type": "code",
   "execution_count": 4,
   "id": "1ddfde68",
   "metadata": {},
   "outputs": [],
   "source": [
    "#what I used to get the row count (nlines) needed for the main function\n",
    "def count_csv_rows(file_path):\n",
    "    rowcount=0\n",
    "    with open(file_path, \"r\",encoding='utf8') as f:\n",
    "        for row,l in enumerate(f):\n",
    "            rowcount+= 1\n",
    " \n",
    "    return rowcount"
   ]
  },
  {
   "cell_type": "markdown",
   "id": "83dd6d21",
   "metadata": {},
   "source": [
    "csv_path: file path to the csv file as a string |\n",
    "table_name: string for table name |\n",
    "table_conn: connection object to sqllite3 |\n",
    "chunksize: how large of chunks you want to go through the data at the time |\n",
    "nlines: number of lines in the csv data |\n",
    "header_list: array/list of the column headers |\n",
    "index_label: a unique column from DataFrame as index"
   ]
  },
  {
   "cell_type": "code",
   "execution_count": 5,
   "id": "08e66340",
   "metadata": {},
   "outputs": [],
   "source": [
    "def large_cvs_to_sqlite (csv_path,table_name,table_conn, chunksize,nlines, header_list, index_label,):\n",
    "    \n",
    "    # Iteratively read CSV and dump lines into the SQLite table\n",
    "    for i in range(1, nlines, chunksize):  # change 0 -> 1 if your csv file contains a column header\n",
    "    \n",
    "        df = pd.read_csv(csv_path,  \n",
    "            header=None,  # no header, define column header manually later\n",
    "            nrows=chunksize, # number of rows to read at each iteration\n",
    "            skiprows=i)   # skip rows that were already read\n",
    "        \n",
    "        df.columns= header_list\n",
    "        \n",
    "        sql.to_sql(df, \n",
    "                name=table_name, \n",
    "                con=table_conn, \n",
    "                index=False, # don't use CSV file index\n",
    "                index_label=index_label, # use a unique column from DataFrame as index\n",
    "                if_exists='append') #this allows all the data to get put in the table, but DON'T run multiple times or you will duplicate data"
   ]
  }
 ],
 "metadata": {
  "kernelspec": {
   "display_name": "Python 3 (ipykernel)",
   "language": "python",
   "name": "python3"
  },
  "language_info": {
   "codemirror_mode": {
    "name": "ipython",
    "version": 3
   },
   "file_extension": ".py",
   "mimetype": "text/x-python",
   "name": "python",
   "nbconvert_exporter": "python",
   "pygments_lexer": "ipython3",
   "version": "3.11.7"
  }
 },
 "nbformat": 4,
 "nbformat_minor": 5
}
